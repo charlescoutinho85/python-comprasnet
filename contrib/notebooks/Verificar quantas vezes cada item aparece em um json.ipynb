{
 "cells": [
  {
   "cell_type": "code",
   "execution_count": 4,
   "metadata": {},
   "outputs": [
    {
     "name": "stdout",
     "output_type": "stream",
     "text": [
      "{'abertura-da-proposta': 266,\n",
      " 'abertura-da-proposta-str': 266,\n",
      " 'cabecalho': 273,\n",
      " 'cidade': 273,\n",
      " 'codigo-da-uasg': 265,\n",
      " 'edital-a-partir-de': 273,\n",
      " 'edital-a-partir-de-str': 273,\n",
      " 'endereco': 273,\n",
      " 'entrega-da-proposta': 266,\n",
      " 'entrega-da-proposta-str': 266,\n",
      " 'fax': 273,\n",
      " 'objeto': 273,\n",
      " 'pregao-eletronico': 266,\n",
      " 'td-style-padding': 8,\n",
      " 'telefone': 273,\n",
      " 'uf': 273}\n"
     ]
    }
   ],
   "source": [
    "from json_tricks import load\n",
    "\n",
    "with open('/tmp/file.json') as handle:\n",
    "    results = load(handle)\n",
    "\n",
    "keys = {}\n",
    "for item in results:\n",
    "    for key in item:\n",
    "        if not key in keys:\n",
    "            keys[key] = 0\n",
    "        keys[key] += 1\n",
    "\n",
    "from pprint import pprint\n",
    "pprint(keys)"
   ]
  },
  {
   "cell_type": "code",
   "execution_count": null,
   "metadata": {
    "collapsed": true
   },
   "outputs": [],
   "source": []
  }
 ],
 "metadata": {
  "kernelspec": {
   "display_name": "Python 3",
   "language": "python",
   "name": "python3"
  },
  "language_info": {
   "codemirror_mode": {
    "name": "ipython",
    "version": 3
   },
   "file_extension": ".py",
   "mimetype": "text/x-python",
   "name": "python",
   "nbconvert_exporter": "python",
   "pygments_lexer": "ipython3",
   "version": "3.6.0"
  }
 },
 "nbformat": 4,
 "nbformat_minor": 2
}
